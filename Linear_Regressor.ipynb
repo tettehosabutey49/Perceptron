{
 "cells": [
  {
   "cell_type": "code",
   "execution_count": null,
   "id": "5fe5350b",
   "metadata": {},
   "outputs": [],
   "source": [
    "## Adaline\n",
    "\n",
    "class LinearRegressor:\n",
    "    def __init__(self, eta = 0.01, n_iter = 50, random_state=42):\n",
    "        self.eta = eta\n",
    "        self.n_iter = n_iter\n",
    "        self.random_state = random_state\n",
    "\n",
    "    def fit(self, X, y):\n",
    "\n",
    "        rgen = np.random.RandomState(self.random_state)\n",
    "        self.w_ = rgen.normal(loc =0, scale=0.01, size=X.shape[1])\n",
    "        self.b_ = np.float64(0.)\n",
    "        self.losses_ = []\n",
    "\n",
    "        for i in range(self.n_iter):\n",
    "            net_input = self.net_input(X)\n",
    "            output = self.activation(net_input)\n",
    "            errors = (y-output)\n",
    "\n",
    "            self.w_ = self.w_ + self.eta*2.0*X.T.dot(errors)/X.shape[0]               #transpose X for dot product compatibility \n",
    "            self.b_ = self.b_ + self.eta*2.0*(errors).mean()                         #mean of errors per epoch\n",
    "            loss = (errors**2).mean()\n",
    "            self.losses_.append(loss)\n",
    "\n",
    "        return self\n",
    "\n",
    "\n",
    "    def net_input(self,X):\n",
    "        return np.dot(X,self.w_) + self.b_\n",
    "\n",
    "\n",
    "    def activation(self, net_input):\n",
    "        return net_input\n",
    "\n",
    "    def predict(self, X):\n",
    "        return np.where(self.activation(self.net_input(X)) >= 0.5, 1, 0)\n"
   ]
  }
 ],
 "metadata": {
  "language_info": {
   "name": "python"
  }
 },
 "nbformat": 4,
 "nbformat_minor": 5
}
