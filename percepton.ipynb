{
 "cells": [
  {
   "cell_type": "code",
   "execution_count": 5,
   "id": "c45208d8",
   "metadata": {},
   "outputs": [],
   "source": [
    "import random\n",
    "import pandas as pd\n",
    "import numpy as np "
   ]
  },
  {
   "cell_type": "code",
   "execution_count": 6,
   "id": "0edf8503",
   "metadata": {},
   "outputs": [],
   "source": [
    "class Perceptron:\n",
    "    def __init__(self, eta=0.01, n_iter=50, random_state=1):\n",
    "        self.eta = eta\n",
    "        self.n_iter = n_iter\n",
    "        self.random_state = random_state\n",
    "\n",
    "    #training perceptron\n",
    "    def fit(self, X, y):\n",
    "        rgen = random.random_state(self.random_state)\n",
    "        self.w_ = rgen.normal(loc= 0.0, scale=0.01, size=X.shape[1])\n",
    "        self.b_ = np.float_(0.)\n",
    "        self.errors_ = []\n",
    "\n",
    "        for _ in range(self.n_iter):\n",
    "            errors = 0\n",
    "            for xi,target in zip(X,y):\n",
    "                update = self.eta*(target - self.predict(xi))\n",
    "                self.w_ = self.w_ + update*xi\n",
    "                self.b_ = self.b_ + update\n",
    "                errors = errors + int(update != 0)     #convert boolean to int \n",
    "            self.errors_.append(errors)                 #tracking errors per each epoch\n",
    "        return self\n",
    "\n",
    "    def predict(self, X):\n",
    "        return np.where(self.net_input>=0.0, 1, 0)\n",
    "\n",
    "    \n",
    "    def net_input(self, X):\n",
    "        return np.dot(X,self.w_) + self.b_\n"
   ]
  },
  {
   "cell_type": "code",
   "execution_count": null,
   "id": "09172687",
   "metadata": {},
   "outputs": [],
   "source": []
  }
 ],
 "metadata": {
  "kernelspec": {
   "display_name": "perceptron",
   "language": "python",
   "name": "python3"
  },
  "language_info": {
   "codemirror_mode": {
    "name": "ipython",
    "version": 3
   },
   "file_extension": ".py",
   "mimetype": "text/x-python",
   "name": "python",
   "nbconvert_exporter": "python",
   "pygments_lexer": "ipython3",
   "version": "3.10.0"
  }
 },
 "nbformat": 4,
 "nbformat_minor": 5
}
